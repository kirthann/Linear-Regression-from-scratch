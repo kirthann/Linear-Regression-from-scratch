{
 "cells": [
  {
   "cell_type": "markdown",
   "metadata": {},
   "source": [
    "Linear Regression "
   ]
  },
  {
   "cell_type": "markdown",
   "metadata": {},
   "source": [
    "Required Libraries"
   ]
  },
  {
   "cell_type": "code",
   "execution_count": 30,
   "metadata": {},
   "outputs": [],
   "source": [
    "import pandas as pd\n",
    "import numpy as np\n",
    "from tqdm import tqdm as tqdm\n",
    "\n",
    "import math\n",
    "from sklearn.model_selection import train_test_split\n",
    "import matplotlib.pyplot as plt"
   ]
  },
  {
   "cell_type": "code",
   "execution_count": 31,
   "metadata": {},
   "outputs": [],
   "source": [
    "class LinearRegression :\n",
    "    \n",
    "    def __init__(self, X, y, learningRate, tolerance, maxIteration=50000, gd= False, sgd= False, regularization = False, lamda=1, sigma=1 ) :\n",
    "        #np.random_state(10)\n",
    "        self.X = X\n",
    "        self.y = y\n",
    "        self.learningRate = learningRate\n",
    "        self.maxIteration = maxIteration\n",
    "        self.tolerance = tolerance\n",
    "        self.gd = gd\n",
    "        self.sgd = sgd\n",
    "        self.regularization = regularization\n",
    "        self.lamda = lamda\n",
    "        self.sigma = sigma\n",
    "        \n",
    "    \n",
    "    # Preparing the data to be loaded to the model\n",
    "    \n",
    "    def trainTestSplit(self):\n",
    "        \n",
    "        X_train, X_test, y_train, y_test = train_test_split(self.X, self.y, test_size = 0.3, random_state = 0)\n",
    "        \n",
    "        return X_train, X_test, y_train, y_test\n",
    "    \n",
    "    def add_x0(self, X):\n",
    "\n",
    "        return np.column_stack ([np.ones(X.shape[0]), X])\n",
    "    \n",
    "    def normalize(self, X):\n",
    "        \n",
    "        mean = np.mean(X, 0)\n",
    "        sd = np.std(X, 0)\n",
    "        \n",
    "        X_norm = (X - mean) / sd\n",
    "        X_norm = self.add_x0(X_norm)\n",
    "        \n",
    "        return X_norm, mean, sd\n",
    "    \n",
    "    def normalizeTestData(self, X, train_mean, train_std):\n",
    "        \n",
    "        X_norm = (X - train_mean) / train_std\n",
    "        X_norm = self.add_x0(X_norm)\n",
    "        \n",
    "        return X_norm\n",
    "    \n",
    "    # Validating the data to check if it can be used to train the linear regression model\n",
    "    \n",
    "    def rank(self, X, eps = 1e-12):\n",
    "        \n",
    "        u, s, vh = np.linalg.svd(X)\n",
    "        \n",
    "        return len([x for x in s if abs(x) > eps])\n",
    "    \n",
    "    def checkMatrix(self, X):\n",
    "        \n",
    "        X_rank = np.linalg.matrix_rank(X)\n",
    "        \n",
    "        if X_rank == min(X.shape[0], X.shape[1]):\n",
    "            \n",
    "            print(\"Matrix is full rank\")\n",
    "            self.fullRank = True \n",
    "            \n",
    "        else :\n",
    "            \n",
    "            print(\"Matrix is not full rank\")\n",
    "            self.fullRank = False\n",
    "            \n",
    "            \n",
    "    def checkInvertability(self, X):\n",
    "        \n",
    "        if X.shape[0] < X.shape[1] :\n",
    "            \n",
    "            self.lowRank = True \n",
    "            print(\"Data is low rank\")\n",
    "            \n",
    "        else :\n",
    "            \n",
    "            self.lowRank = False\n",
    "            print(\"Data is not low rank\")\n",
    "            \n",
    "    \n",
    "    # Creating the model\n",
    "    \n",
    "    def closedFormSolution(self, X, y):\n",
    "        \n",
    "        w = np.linalg.inv(X.T.dot(X)).dot(X.T).dot(y)\n",
    "        \n",
    "        return w\n",
    "    \n",
    "    def closedFormSolutionRegularized (self, X, y):\n",
    "        \n",
    "        w = np.linalg.inv(X.T.dot(X) + 2 * self.lamda * self.sigma * self.sigma * np.eye(X.shape[1])).dot(X.T).dot(y)\n",
    "        \n",
    "        return w     \n",
    "    \n",
    "    def gradientDescent(self, X, y):\n",
    "        \n",
    "        self.errorSequence = []\n",
    "        self.costValues = []\n",
    "        last = float('inf')\n",
    "        \n",
    "        for i in tqdm(range(self.maxIteration)):\n",
    "            \n",
    "            self.w = self.w - self.learningRate * self.costDerivatives(X, y)\n",
    "            \n",
    "            cost = self.costFunction(X, y)\n",
    "            self.costValues.append(cost)\n",
    "            \n",
    "            cur = self.sse(X, y)\n",
    "            \n",
    "            diff = last - cur\n",
    "            last = cur\n",
    "            \n",
    "            self.errorSequence.append(cur)\n",
    "            \n",
    "            if (diff < self.tolerance) : \n",
    "                \n",
    "                print(\"The model stopped\")\n",
    "                \n",
    "                break\n",
    "               \n",
    "    def sGradientDescent(self, X, y):\n",
    "        \n",
    "        self.errorSequence = []\n",
    "        self.costValues = []\n",
    "        last = float('inf')\n",
    "        \n",
    "        for i in tqdm(range(self.maxIteration)):\n",
    "            \n",
    "            for x_i, y_i in zip(X, y):\n",
    "                self.w = self.w - self.learningRate * self.costDerivatives(x_i, y_i)\n",
    "            \n",
    "            cost = self.costFunction(X, y)\n",
    "            self.costValues.append(cost)\n",
    "\n",
    "            cur = self.sse(X, y)\n",
    "            diff = last - cur\n",
    "            last = cur\n",
    "            self.errorSequence.append(cur)\n",
    "            \n",
    "            if (diff < self.tolerance) : \n",
    "                print(\"The model stopped\")\n",
    "                break\n",
    "                \n",
    "                \n",
    "    def gradientDescentRegularized(self, X, y):\n",
    "        \n",
    "        self.errorSequence = []\n",
    "        self.costValues = []\n",
    "        last = float('inf')\n",
    "        \n",
    "        for i in tqdm(range(self.maxIteration)):\n",
    "            \n",
    "            self.w = self.w - self.learningRate * self.costDerivativesRegularized(X, y)\n",
    "            \n",
    "            cost = self.costFunctionRegularized(X, y)\n",
    "            self.costValues.append(cost)\n",
    "\n",
    "            cur = self.sse(X, y)\n",
    "            diff = last - cur\n",
    "            last = cur\n",
    "            self.errorSequence.append(cur)\n",
    "            \n",
    "            if (diff < self.tolerance) : \n",
    "                print(\"The model stopped\")\n",
    "                break\n",
    "                \n",
    "    def sGradientDescentRegularized(self, X, y):\n",
    "        \n",
    "        self.errorSequence = []\n",
    "        self.costValues = []\n",
    "        last = float('inf')\n",
    "        \n",
    "        for i in tqdm(range(self.maxIteration)):\n",
    "            \n",
    "            for x_i, y_i in zip(X, y):\n",
    "                self.w = self.w - self.learningRate * self.costDerivativesRegularized(x_i, y_i)\n",
    "            \n",
    "            cost = self.costFunctionRegularized(X,y)\n",
    "            self.costValues.append(cost)\n",
    "\n",
    "            cur = self.sse(X, y)\n",
    "            diff = last - cur\n",
    "            last = cur\n",
    "            self.errorSequence.append(cur)\n",
    "            \n",
    "            if (diff < self.tolerance) : \n",
    "                print(\"The model stopped\")\n",
    "                break\n",
    "                \n",
    "    def costFunction(self, X, y):\n",
    "        \n",
    "        return (self.sse(X, y)/2)\n",
    "        \n",
    "        \n",
    "    def costFunctionRegularized(self, X, y):\n",
    "        \n",
    "        return (self.sse(X, y) / (2 * self.sigma * self.sigma) ) + self.lamda * self.w.T.dot(self.w)\n",
    "        \n",
    "    def costDerivatives (self, X, y) :\n",
    "        \n",
    "        y_hat = self.predict(X)\n",
    "        \n",
    "        if (self.sgd == False):\n",
    "            \n",
    "            return ((y_hat - y).dot(X) )\n",
    "        \n",
    "        else:\n",
    "            \n",
    "            return ((y_hat - y) * (X) )\n",
    "    \n",
    "    def costDerivativesRegularized ( self, X, y):\n",
    "        \n",
    "        y_hat = self.predict(X)\n",
    "        \n",
    "        if (self.sgd == False):\n",
    "            \n",
    "            return ((y_hat - y).dot(X) / (self.sigma * self.sigma)) + 2 * self.lamda * self.w\n",
    "        \n",
    "        else:\n",
    "            \n",
    "            return ((y_hat - y) * (X) / (self.sigma * self.sigma)) + 2 * self.lamda * self.w\n",
    "    \n",
    "                \n",
    "    def predict (self, X):\n",
    "        \n",
    "        return (X.dot(self.w))\n",
    "        \n",
    "    def sse(self, X, y):\n",
    "        \n",
    "        y_hat = self.predict(X)\n",
    "        \n",
    "        return ((y_hat - y)**2).sum()\n",
    "        \n",
    "    \n",
    "    # Running the model\n",
    "    \n",
    "    def fit(self) :\n",
    "        \n",
    "        self.X_train, self.X_test, self.y_train, self.y_test = self.trainTestSplit()\n",
    "        \n",
    "        self.X_train, self.mean, self.std = self.normalize ( self.X_train)\n",
    "        self.X_test = self.normalizeTestData(self.X_test, self.mean, self.std)\n",
    "        \n",
    "        self.checkMatrix(self.X_train)\n",
    "        self.checkInvertability(self.X_train)\n",
    "        \n",
    "        if self.fullRank and not self.lowRank and self.X_train.shape[0] < 10000 and not self.gd and not self.sgd and not self.regularization:\n",
    "            \n",
    "            print(\"\\nSolving using closed form solution\")\n",
    "            \n",
    "            self.w = self.closedFormSolution(self.X_train, self.y_train)\n",
    "        \n",
    "        elif self.fullRank and not self.lowRank and self.X_train.shape[0] < 10000 and self.gd and not self.sgd and not self.regularization :\n",
    "            \n",
    "            print(\"\\nSolving using gradient descent\")\n",
    "            \n",
    "            self.w = np.ones(self.X_train.shape[1], dtype = np.float64) *0\n",
    "            \n",
    "            self.gradientDescent(self.X_train, self.y_train)\n",
    "            \n",
    "            self.plotCost()\n",
    "            \n",
    "        elif self.fullRank and not self.lowRank and self.X_train.shape[0] < 10000 and not self.gd and not self.sgd and self.regularization :\n",
    "            \n",
    "            print(\"\\nSolving using closed form regularised solution\")\n",
    "            \n",
    "            self.w = self.closedFormSolutionRegularized(self.X_train, self.y_train)\n",
    "            \n",
    "        elif self.fullRank and not self.lowRank and self.X_train.shape[0] < 10000 and self.gd and not self.sgd and self.regularization :\n",
    "            \n",
    "            print(\"\\nSolving using gradient descent regularised\")\n",
    "            \n",
    "            self.w = np.ones(self.X_train.shape[1], dtype = np.float64) *0\n",
    "            \n",
    "            self.gradientDescentRegularized(self.X_train, self.y_train)\n",
    "            \n",
    "            self.plotCost()\n",
    "            \n",
    "        elif self.fullRank and not self.lowRank and self.X_train.shape[0] < 10000 and self.gd and self.sgd and not self.regularization :\n",
    "            \n",
    "            print(\"\\nSolving using stochastic gradient descent\")\n",
    "            \n",
    "            self.w = np.ones(self.X_train.shape[1], dtype = np.float64) *0\n",
    "            \n",
    "            self.sGradientDescent(self.X_train, self.y_train)\n",
    "            \n",
    "            self.plotCost()\n",
    "            \n",
    "        elif self.fullRank and not self.lowRank and self.X_train.shape[0] < 10000 and self.gd and self.sgd and self.regularization :\n",
    "            \n",
    "            print(\"\\nSolving using stochastic gradient descent regularised\")\n",
    "            \n",
    "            self.w = np.ones(self.X_train.shape[1], dtype = np.float64) *0\n",
    "            \n",
    "            self.sGradientDescentRegularized(self.X_train, self.y_train)\n",
    "            \n",
    "            self.plotCost()\n",
    "        \n",
    "        else :\n",
    "            \n",
    "            print(\"Incorrect parameters\")\n",
    "            \n",
    "        \n",
    "        \n",
    "        sse = self.sse(self.X_test, self.y_test)\n",
    "        rmse = math.sqrt(sse)\n",
    "        print(\"\\nSSE : \",  sse)\n",
    "        print(\"RMSE : \", rmse )\n",
    "        \n",
    "        print(\"\\nWeights \\n\")\n",
    "        print(self.w)\n",
    "        \n",
    "    # PLotting the costs\n",
    "    \n",
    "    def plotCost(self):\n",
    "        plt.plot(self.costValues)\n",
    "        plt.xlabel(\"Iterations\")\n",
    "        plt.ylabel(\"Cost\")\n",
    "        plt.title(\"Iterations vs cost\")\n",
    "        plt.show()"
   ]
  },
  {
   "cell_type": "markdown",
   "metadata": {},
   "source": [
    "Housing Data"
   ]
  },
  {
   "cell_type": "code",
   "execution_count": 32,
   "metadata": {},
   "outputs": [],
   "source": [
    "df = pd.read_csv(\"housing.csv\", header=None)\n",
    "lr = 0.4e-3\n",
    "tolerance = 0.5e-2"
   ]
  },
  {
   "cell_type": "code",
   "execution_count": 33,
   "metadata": {},
   "outputs": [
    {
     "name": "stdout",
     "output_type": "stream",
     "text": [
      "Matrix is full rank\n",
      "Data is not low rank\n",
      "\n",
      "Solving using closed form solution\n",
      "\n",
      "SSE :  4133.7837519551285\n",
      "RMSE :  64.29450794550907\n",
      "\n",
      "Weights \n",
      "\n",
      "[22.74548023 -1.01189299  1.05028731  0.07922238  0.61896311 -1.87367112\n",
      "  2.70526765 -0.27955798 -3.09763515  2.09690865 -1.88608488 -2.26109811\n",
      "  0.58264435 -3.44050512]\n"
     ]
    }
   ],
   "source": [
    "regression = LinearRegression(df.values[:,0:-1], df.values[:,-1], \n",
    "                             learningRate = lr,\n",
    "                             maxIteration = 1000 ,\n",
    "                             tolerance = tolerance)\n",
    "regression.fit()"
   ]
  },
  {
   "cell_type": "code",
   "execution_count": 34,
   "metadata": {},
   "outputs": [
    {
     "name": "stdout",
     "output_type": "stream",
     "text": [
      "Matrix is full rank\n",
      "Data is not low rank\n",
      "\n",
      "Solving using gradient descent\n"
     ]
    },
    {
     "name": "stderr",
     "output_type": "stream",
     "text": [
      " 36%|█████████████▍                       | 363/1000 [00:00<00:00, 38489.58it/s]"
     ]
    },
    {
     "name": "stdout",
     "output_type": "stream",
     "text": [
      "The model stopped\n"
     ]
    },
    {
     "name": "stderr",
     "output_type": "stream",
     "text": [
      "\n"
     ]
    },
    {
     "data": {
      "image/png": "[encoded data removed]",
      "text/plain": [
       "<Figure size 432x288 with 1 Axes>"
      ]
     },
     "metadata": {
      "needs_background": "light"
     },
     "output_type": "display_data"
    },
    {
     "name": "stdout",
     "output_type": "stream",
     "text": [
      "\n",
      "SSE :  4138.392640507719\n",
      "RMSE :  64.33033996884922\n",
      "\n",
      "Weights \n",
      "\n",
      "[22.74548023 -1.00695704  1.04172285  0.05071163  0.62307035 -1.86558657\n",
      "  2.71080706 -0.28572203 -3.09874371  2.02599784 -1.80638574 -2.25793522\n",
      "  0.58123396 -3.4382458 ]\n"
     ]
    }
   ],
   "source": [
    "regression = LinearRegression(df.values[:,0:-1], df.values[:,-1], \n",
    "                             learningRate = lr,\n",
    "                             maxIteration = 1000 ,\n",
    "                             tolerance = tolerance,\n",
    "                             gd = True)\n",
    "regression.fit()"
   ]
  },
  {
   "cell_type": "code",
   "execution_count": 35,
   "metadata": {},
   "outputs": [
    {
     "name": "stdout",
     "output_type": "stream",
     "text": [
      "Matrix is full rank\n",
      "Data is not low rank\n",
      "\n",
      "Solving using closed form regularised solution\n",
      "\n",
      "SSE :  4161.106709870843\n",
      "RMSE :  64.50664081992522\n",
      "\n",
      "Weights \n",
      "\n",
      "[22.61769663 -0.99268609  1.01379307  0.0229338   0.62813902 -1.79856439\n",
      "  2.72536211 -0.29071129 -3.02112681  1.93296858 -1.73402235 -2.24323351\n",
      "  0.58326607 -3.40905681]\n"
     ]
    }
   ],
   "source": [
    "regression = LinearRegression(df.values[:,0:-1], df.values[:,-1], \n",
    "                             learningRate = lr,\n",
    "                             maxIteration = 1000 ,\n",
    "                             tolerance = tolerance,\n",
    "                             regularization = True)\n",
    "regression.fit()"
   ]
  },
  {
   "cell_type": "code",
   "execution_count": 36,
   "metadata": {},
   "outputs": [
    {
     "name": "stdout",
     "output_type": "stream",
     "text": [
      "Matrix is full rank\n",
      "Data is not low rank\n",
      "\n",
      "Solving using gradient descent regularised\n"
     ]
    },
    {
     "name": "stderr",
     "output_type": "stream",
     "text": [
      " 43%|███████████████▊                     | 427/1000 [00:00<00:00, 29342.81it/s]"
     ]
    },
    {
     "name": "stdout",
     "output_type": "stream",
     "text": [
      "The model stopped\n"
     ]
    },
    {
     "name": "stderr",
     "output_type": "stream",
     "text": [
      "\n"
     ]
    },
    {
     "data": {
      "image/png": "[encoded data removed]",
      "text/plain": [
       "<Figure size 432x288 with 1 Axes>"
      ]
     },
     "metadata": {
      "needs_background": "light"
     },
     "output_type": "display_data"
    },
    {
     "name": "stdout",
     "output_type": "stream",
     "text": [
      "\n",
      "SSE :  4162.892453361971\n",
      "RMSE :  64.52048088291012\n",
      "\n",
      "Weights \n",
      "\n",
      "[ 2.26176966e+01 -9.90883844e-01  1.01066561e+00  1.24841431e-02\n",
      "  6.29643090e-01 -1.79567456e+00  2.72737434e+00 -2.92952972e-01\n",
      " -3.02158078e+00  1.90698660e+00 -1.70478622e+00 -2.24208810e+00\n",
      "  5.82744447e-01 -3.40823882e+00]\n"
     ]
    }
   ],
   "source": [
    "regression = LinearRegression(df.values[:,0:-1], df.values[:,-1], \n",
    "                             learningRate = lr,\n",
    "                             maxIteration = 1000 ,\n",
    "                             tolerance = tolerance,\n",
    "                             gd = True,\n",
    "                             regularization = True)\n",
    "regression.fit()"
   ]
  },
  {
   "cell_type": "code",
   "execution_count": 37,
   "metadata": {},
   "outputs": [
    {
     "name": "stdout",
     "output_type": "stream",
     "text": [
      "Matrix is full rank\n",
      "Data is not low rank\n",
      "\n",
      "Solving using stochastic gradient descent\n"
     ]
    },
    {
     "name": "stderr",
     "output_type": "stream",
     "text": [
      " 36%|█████████████▉                         | 356/1000 [00:00<00:00, 774.52it/s]\n"
     ]
    },
    {
     "name": "stdout",
     "output_type": "stream",
     "text": [
      "The model stopped\n"
     ]
    },
    {
     "data": {
      "image/png": "[encoded data removed]",
      "text/plain": [
       "<Figure size 432x288 with 1 Axes>"
      ]
     },
     "metadata": {
      "needs_background": "light"
     },
     "output_type": "display_data"
    },
    {
     "name": "stdout",
     "output_type": "stream",
     "text": [
      "\n",
      "SSE :  4132.3486261016005\n",
      "RMSE :  64.2833464133721\n",
      "\n",
      "Weights \n",
      "\n",
      "[22.75420343 -1.02351594  1.04629644  0.06141644  0.65246888 -1.86039292\n",
      "  2.7226557  -0.27177725 -3.10847954  2.0409238  -1.79535783 -2.27524424\n",
      "  0.58302412 -3.44268508]\n"
     ]
    }
   ],
   "source": [
    "regression = LinearRegression(df.values[:,0:-1], df.values[:,-1], \n",
    "                             learningRate = lr,\n",
    "                             maxIteration = 1000 ,\n",
    "                             tolerance = tolerance,\n",
    "                             gd = True,\n",
    "                             sgd = True)\n",
    "regression.fit()"
   ]
  },
  {
   "cell_type": "code",
   "execution_count": 38,
   "metadata": {},
   "outputs": [
    {
     "name": "stdout",
     "output_type": "stream",
     "text": [
      "Matrix is full rank\n",
      "Data is not low rank\n",
      "\n",
      "Solving using stochastic gradient descent regularised\n"
     ]
    },
    {
     "name": "stderr",
     "output_type": "stream",
     "text": [
      "  4%|█▍                                      | 37/1000 [00:00<00:02, 396.80it/s]"
     ]
    },
    {
     "name": "stdout",
     "output_type": "stream",
     "text": [
      "The model stopped\n"
     ]
    },
    {
     "name": "stderr",
     "output_type": "stream",
     "text": [
      "\n"
     ]
    },
    {
     "data": {
      "image/png": "[encoded data removed]",
      "text/plain": [
       "<Figure size 432x288 with 1 Axes>"
      ]
     },
     "metadata": {
      "needs_background": "light"
     },
     "output_type": "display_data"
    },
    {
     "name": "stdout",
     "output_type": "stream",
     "text": [
      "\n",
      "SSE :  39976.61435499176\n",
      "RMSE :  199.94152733984944\n",
      "\n",
      "Weights \n",
      "\n",
      "[ 7.60450056 -0.46918582  0.46133433 -0.53774611  0.44138981 -0.37907558\n",
      "  1.52878998 -0.32315076 -0.20028833 -0.22407221 -0.45956926 -1.05815305\n",
      "  0.45883531 -1.35727163]\n"
     ]
    }
   ],
   "source": [
    "regression = LinearRegression(df.values[:,0:-1], df.values[:,-1], \n",
    "                             learningRate = lr,\n",
    "                             maxIteration = 1000 ,\n",
    "                             tolerance = tolerance,\n",
    "                             gd = True,\n",
    "                             sgd = True,\n",
    "                             regularization = True)\n",
    "regression.fit()"
   ]
  },
  {
   "cell_type": "markdown",
   "metadata": {},
   "source": [
    "Yacht Data "
   ]
  },
  {
   "cell_type": "code",
   "execution_count": 39,
   "metadata": {},
   "outputs": [],
   "source": [
    "df = pd.read_csv(\"yachtData.csv\", header=None)\n",
    "lr = 0.1e-2\n",
    "tolerance = 0.1e-2"
   ]
  },
  {
   "cell_type": "code",
   "execution_count": 40,
   "metadata": {},
   "outputs": [
    {
     "name": "stdout",
     "output_type": "stream",
     "text": [
      "Matrix is full rank\n",
      "Data is not low rank\n",
      "\n",
      "Solving using closed form solution\n",
      "\n",
      "SSE :  7205.10823485175\n",
      "RMSE :  84.88290896789383\n",
      "\n",
      "Weights \n",
      "\n",
      "[11.23939535  0.81790302  0.20369276  2.97602416 -2.75890138 -3.83325201\n",
      " 12.9328097 ]\n"
     ]
    }
   ],
   "source": [
    "regression = LinearRegression(df.values[:,0:-1], df.values[:,-1], \n",
    "                             learningRate = lr,\n",
    "                             maxIteration = 1000 ,\n",
    "                             tolerance = tolerance)\n",
    "regression.fit()"
   ]
  },
  {
   "cell_type": "code",
   "execution_count": 41,
   "metadata": {},
   "outputs": [
    {
     "name": "stdout",
     "output_type": "stream",
     "text": [
      "Matrix is full rank\n",
      "Data is not low rank\n",
      "\n",
      "Solving using gradient descent\n"
     ]
    },
    {
     "name": "stderr",
     "output_type": "stream",
     "text": [
      " 33%|███████████▊                        | 1643/5000 [00:00<00:00, 50867.26it/s]"
     ]
    },
    {
     "name": "stdout",
     "output_type": "stream",
     "text": [
      "The model stopped\n"
     ]
    },
    {
     "name": "stderr",
     "output_type": "stream",
     "text": [
      "\n"
     ]
    },
    {
     "data": {
      "image/png": "[encoded data removed]",
      "text/plain": [
       "<Figure size 432x288 with 1 Axes>"
      ]
     },
     "metadata": {
      "needs_background": "light"
     },
     "output_type": "display_data"
    },
    {
     "name": "stdout",
     "output_type": "stream",
     "text": [
      "\n",
      "SSE :  7195.78106353937\n",
      "RMSE :  84.82794977800283\n",
      "\n",
      "Weights \n",
      "\n",
      "[11.23939535  0.81522178  0.13102656  2.68675502 -2.5228081  -3.55339498\n",
      " 12.93260437]\n"
     ]
    }
   ],
   "source": [
    "regression = LinearRegression(df.values[:,0:-1], df.values[:,-1], \n",
    "                             learningRate = lr,\n",
    "                             maxIteration = 5000 ,\n",
    "                             tolerance = tolerance,\n",
    "                             gd = True)\n",
    "regression.fit()"
   ]
  },
  {
   "cell_type": "code",
   "execution_count": 42,
   "metadata": {},
   "outputs": [
    {
     "name": "stdout",
     "output_type": "stream",
     "text": [
      "Matrix is full rank\n",
      "Data is not low rank\n",
      "\n",
      "Solving using closed form regularised solution\n",
      "\n",
      "SSE :  7089.283775070544\n",
      "RMSE :  84.19788462349005\n",
      "\n",
      "Weights \n",
      "\n",
      "[11.13580645  0.79649758 -0.27701335  1.04108721 -1.1829239  -1.96027042\n",
      " 12.81242845]\n"
     ]
    }
   ],
   "source": [
    "regression = LinearRegression(df.values[:,0:-1], df.values[:,-1], \n",
    "                             learningRate = lr,\n",
    "                             maxIteration = 1000 ,\n",
    "                             tolerance = tolerance,\n",
    "                             regularization = True)\n",
    "regression.fit()"
   ]
  },
  {
   "cell_type": "code",
   "execution_count": 43,
   "metadata": {},
   "outputs": [
    {
     "name": "stdout",
     "output_type": "stream",
     "text": [
      "Matrix is full rank\n",
      "Data is not low rank\n",
      "\n",
      "Solving using gradient descent regularised\n"
     ]
    },
    {
     "name": "stderr",
     "output_type": "stream",
     "text": [
      " 25%|████████▉                           | 1247/5000 [00:00<00:00, 40159.84it/s]"
     ]
    },
    {
     "name": "stdout",
     "output_type": "stream",
     "text": [
      "The model stopped\n"
     ]
    },
    {
     "name": "stderr",
     "output_type": "stream",
     "text": [
      "\n"
     ]
    },
    {
     "data": {
      "image/png": "[encoded data removed]",
      "text/plain": [
       "<Figure size 432x288 with 1 Axes>"
      ]
     },
     "metadata": {
      "needs_background": "light"
     },
     "output_type": "display_data"
    },
    {
     "name": "stdout",
     "output_type": "stream",
     "text": [
      "\n",
      "SSE :  7088.842841775688\n",
      "RMSE :  84.19526614825615\n",
      "\n",
      "Weights \n",
      "\n",
      "[11.13580645  0.79632786 -0.28161316  1.0227763  -1.16797906 -1.94255531\n",
      " 12.81241545]\n"
     ]
    }
   ],
   "source": [
    "regression = LinearRegression(df.values[:,0:-1], df.values[:,-1], \n",
    "                             learningRate = lr,\n",
    "                             maxIteration = 5000 ,\n",
    "                             tolerance = tolerance,\n",
    "                             gd = True,\n",
    "                             regularization = True)\n",
    "regression.fit()"
   ]
  },
  {
   "cell_type": "code",
   "execution_count": 44,
   "metadata": {},
   "outputs": [
    {
     "name": "stdout",
     "output_type": "stream",
     "text": [
      "Matrix is full rank\n",
      "Data is not low rank\n",
      "\n",
      "Solving using stochastic gradient descent\n"
     ]
    },
    {
     "name": "stderr",
     "output_type": "stream",
     "text": [
      " 31%|███████████▌                         | 1557/5000 [00:01<00:02, 1298.61it/s]\n"
     ]
    },
    {
     "name": "stdout",
     "output_type": "stream",
     "text": [
      "The model stopped\n"
     ]
    },
    {
     "data": {
      "image/png": "[encoded data removed]",
      "text/plain": [
       "<Figure size 432x288 with 1 Axes>"
      ]
     },
     "metadata": {
      "needs_background": "light"
     },
     "output_type": "display_data"
    },
    {
     "name": "stdout",
     "output_type": "stream",
     "text": [
      "\n",
      "SSE :  7170.529996798601\n",
      "RMSE :  84.67898202504918\n",
      "\n",
      "Weights \n",
      "\n",
      "[11.20880961  0.81245218  0.13318449  2.72268506 -2.5806239  -3.58958195\n",
      " 12.84249253]\n"
     ]
    }
   ],
   "source": [
    "regression = LinearRegression(df.values[:,0:-1], df.values[:,-1], \n",
    "                             learningRate = lr,\n",
    "                             maxIteration = 5000 ,\n",
    "                             tolerance = tolerance,\n",
    "                             gd = True,\n",
    "                             sgd = True)\n",
    "regression.fit()"
   ]
  },
  {
   "cell_type": "code",
   "execution_count": 45,
   "metadata": {},
   "outputs": [
    {
     "name": "stdout",
     "output_type": "stream",
     "text": [
      "Matrix is full rank\n",
      "Data is not low rank\n",
      "\n",
      "Solving using stochastic gradient descent regularised\n"
     ]
    },
    {
     "name": "stderr",
     "output_type": "stream",
     "text": [
      "  1%|▏                                       | 26/5000 [00:00<00:08, 560.96it/s]"
     ]
    },
    {
     "name": "stdout",
     "output_type": "stream",
     "text": [
      "The model stopped\n"
     ]
    },
    {
     "name": "stderr",
     "output_type": "stream",
     "text": [
      "\n"
     ]
    },
    {
     "data": {
      "image/png": "[encoded data removed]",
      "text/plain": [
       "<Figure size 432x288 with 1 Axes>"
      ]
     },
     "metadata": {
      "needs_background": "light"
     },
     "output_type": "display_data"
    },
    {
     "name": "stdout",
     "output_type": "stream",
     "text": [
      "\n",
      "SSE :  12871.555977596721\n",
      "RMSE :  113.45287998811102\n",
      "\n",
      "Weights \n",
      "\n",
      "[ 3.68163699  0.26035163 -0.30535121 -0.19298314 -0.057174   -0.27013373\n",
      "  4.19808199]\n"
     ]
    }
   ],
   "source": [
    "regression = LinearRegression(df.values[:,0:-1], df.values[:,-1], \n",
    "                             learningRate = lr,\n",
    "                             maxIteration = 5000 ,\n",
    "                             tolerance = tolerance,\n",
    "                             gd = True,\n",
    "                             sgd = True,\n",
    "                             regularization = True)\n",
    "regression.fit()"
   ]
  },
  {
   "cell_type": "markdown",
   "metadata": {},
   "source": [
    "Concrete Data"
   ]
  },
  {
   "cell_type": "code",
   "execution_count": 46,
   "metadata": {},
   "outputs": [],
   "source": [
    "df = pd.read_csv(\"concreteData.csv\", header=None)\n",
    "lr = 0.7e-3\n",
    "tolerance = 0.1e-3"
   ]
  },
  {
   "cell_type": "code",
   "execution_count": 47,
   "metadata": {},
   "outputs": [
    {
     "name": "stdout",
     "output_type": "stream",
     "text": [
      "Matrix is full rank\n",
      "Data is not low rank\n",
      "\n",
      "Solving using closed form solution\n",
      "\n",
      "SSE :  28928.189419662704\n",
      "RMSE :  170.0828898498103\n",
      "\n",
      "Weights \n",
      "\n",
      "[35.85368932 12.72547471  9.54463305  5.99752761 -2.82130272  2.10540297\n",
      "  1.85195151  1.95023318  7.17433735]\n"
     ]
    }
   ],
   "source": [
    "regression = LinearRegression(df.values[:,0:-1], df.values[:,-1], \n",
    "                             learningRate = lr,\n",
    "                             maxIteration = 1000 ,\n",
    "                             tolerance = tolerance)\n",
    "regression.fit()"
   ]
  },
  {
   "cell_type": "code",
   "execution_count": 48,
   "metadata": {},
   "outputs": [
    {
     "name": "stdout",
     "output_type": "stream",
     "text": [
      "Matrix is full rank\n",
      "Data is not low rank\n",
      "\n",
      "Solving using gradient descent\n"
     ]
    },
    {
     "name": "stderr",
     "output_type": "stream",
     "text": [
      " 44%|████████████████▋                     | 440/1000 [00:00<00:00, 1709.04it/s]\n"
     ]
    },
    {
     "name": "stdout",
     "output_type": "stream",
     "text": [
      "The model stopped\n"
     ]
    },
    {
     "data": {
      "image/png": "[encoded data removed]",
      "text/plain": [
       "<Figure size 432x288 with 1 Axes>"
      ]
     },
     "metadata": {
      "needs_background": "light"
     },
     "output_type": "display_data"
    },
    {
     "name": "stdout",
     "output_type": "stream",
     "text": [
      "\n",
      "SSE :  28927.518884460915\n",
      "RMSE :  170.08091863716197\n",
      "\n",
      "Weights \n",
      "\n",
      "[35.85368932 12.72033523  9.53947715  5.99298714 -2.82570188  2.10479451\n",
      "  1.84789054  1.94520372  7.17419989]\n"
     ]
    }
   ],
   "source": [
    "regression = LinearRegression(df.values[:,0:-1], df.values[:,-1], \n",
    "                             learningRate = lr,\n",
    "                             maxIteration = 1000 ,\n",
    "                             tolerance = tolerance,\n",
    "                             gd = True)\n",
    "regression.fit()"
   ]
  },
  {
   "cell_type": "code",
   "execution_count": 49,
   "metadata": {},
   "outputs": [
    {
     "name": "stdout",
     "output_type": "stream",
     "text": [
      "Matrix is full rank\n",
      "Data is not low rank\n",
      "\n",
      "Solving using closed form regularised solution\n",
      "\n",
      "SSE :  28952.417252139392\n",
      "RMSE :  170.15409854640407\n",
      "\n",
      "Weights \n",
      "\n",
      "[35.75450899 12.22986534  9.04984634  5.55403896 -3.15069474  2.10452505\n",
      "  1.51020192  1.51209823  7.13320331]\n"
     ]
    }
   ],
   "source": [
    "regression = LinearRegression(df.values[:,0:-1], df.values[:,-1], \n",
    "                             learningRate = lr,\n",
    "                             maxIteration = 1000 ,\n",
    "                             tolerance = tolerance,\n",
    "                             regularization = True)\n",
    "regression.fit()"
   ]
  },
  {
   "cell_type": "code",
   "execution_count": 50,
   "metadata": {},
   "outputs": [
    {
     "name": "stdout",
     "output_type": "stream",
     "text": [
      "Matrix is full rank\n",
      "Data is not low rank\n",
      "\n",
      "Solving using gradient descent regularised\n"
     ]
    },
    {
     "name": "stderr",
     "output_type": "stream",
     "text": [
      " 66%|█████████████████████████▏            | 663/1000 [00:00<00:00, 2257.07it/s]\n"
     ]
    },
    {
     "name": "stdout",
     "output_type": "stream",
     "text": [
      "The model stopped\n"
     ]
    },
    {
     "data": {
      "image/png": "[encoded data removed]",
      "text/plain": [
       "<Figure size 432x288 with 1 Axes>"
      ]
     },
     "metadata": {
      "needs_background": "light"
     },
     "output_type": "display_data"
    },
    {
     "name": "stdout",
     "output_type": "stream",
     "text": [
      "\n",
      "SSE :  28952.412201258696\n",
      "RMSE :  170.15408370432576\n",
      "\n",
      "Weights \n",
      "\n",
      "[35.75450899 12.22981225  9.04979309  5.55399206 -3.15074018  2.10451877\n",
      "  1.51015997  1.51204628  7.13320189]\n"
     ]
    }
   ],
   "source": [
    "regression = LinearRegression(df.values[:,0:-1], df.values[:,-1], \n",
    "                             learningRate = lr,\n",
    "                             maxIteration = 1000 ,\n",
    "                             tolerance = tolerance,\n",
    "                             gd = True,\n",
    "                             regularization = True)\n",
    "regression.fit()"
   ]
  },
  {
   "cell_type": "code",
   "execution_count": 51,
   "metadata": {},
   "outputs": [
    {
     "name": "stdout",
     "output_type": "stream",
     "text": [
      "Matrix is full rank\n",
      "Data is not low rank\n",
      "\n",
      "Solving using stochastic gradient descent\n"
     ]
    },
    {
     "name": "stderr",
     "output_type": "stream",
     "text": [
      " 42%|████████████████▍                      | 422/1000 [00:01<00:01, 388.35it/s]\n"
     ]
    },
    {
     "name": "stdout",
     "output_type": "stream",
     "text": [
      "The model stopped\n"
     ]
    },
    {
     "data": {
      "image/png": "[encoded data removed]",
      "text/plain": [
       "<Figure size 432x288 with 1 Axes>"
      ]
     },
     "metadata": {
      "needs_background": "light"
     },
     "output_type": "display_data"
    },
    {
     "name": "stdout",
     "output_type": "stream",
     "text": [
      "\n",
      "SSE :  28891.552995356025\n",
      "RMSE :  169.97515405304395\n",
      "\n",
      "Weights \n",
      "\n",
      "[35.84622017 12.74059009  9.53147994  6.01508254 -2.7451715   2.10638501\n",
      "  1.76835981  1.90421032  7.15384662]\n"
     ]
    }
   ],
   "source": [
    "regression = LinearRegression(df.values[:,0:-1], df.values[:,-1], \n",
    "                             learningRate = lr,\n",
    "                             maxIteration = 1000 ,\n",
    "                             tolerance = tolerance,\n",
    "                             gd = True,\n",
    "                             sgd = True)\n",
    "regression.fit()"
   ]
  },
  {
   "cell_type": "code",
   "execution_count": 52,
   "metadata": {},
   "outputs": [
    {
     "name": "stdout",
     "output_type": "stream",
     "text": [
      "Matrix is full rank\n",
      "Data is not low rank\n",
      "\n",
      "Solving using stochastic gradient descent regularised\n"
     ]
    },
    {
     "name": "stderr",
     "output_type": "stream",
     "text": [
      "  2%|▋                                       | 16/1000 [00:00<00:05, 192.09it/s]"
     ]
    },
    {
     "name": "stdout",
     "output_type": "stream",
     "text": [
      "The model stopped\n"
     ]
    },
    {
     "name": "stderr",
     "output_type": "stream",
     "text": [
      "\n"
     ]
    },
    {
     "data": {
      "image/png": "[encoded data removed]",
      "text/plain": [
       "<Figure size 432x288 with 1 Axes>"
      ]
     },
     "metadata": {
      "needs_background": "light"
     },
     "output_type": "display_data"
    },
    {
     "name": "stdout",
     "output_type": "stream",
     "text": [
      "\n",
      "SSE :  228477.30522746517\n",
      "RMSE :  477.9929970485605\n",
      "\n",
      "Weights \n",
      "\n",
      "[11.97520655  2.66603479  1.00134062 -0.60954137 -1.74737202  1.9003655\n",
      " -0.82404711 -0.94651019  1.94941303]\n"
     ]
    }
   ],
   "source": [
    "regression = LinearRegression(df.values[:,0:-1], df.values[:,-1], \n",
    "                             learningRate = lr,\n",
    "                             maxIteration = 1000 ,\n",
    "                             tolerance = tolerance,\n",
    "                             gd = True,\n",
    "                             sgd = True,\n",
    "                             regularization = True)\n",
    "regression.fit()"
   ]
  },
  {
   "cell_type": "markdown",
   "metadata": {},
   "source": [
    "When you use low learning rate, the model takes time to train data and there will be high chance to reach the convergence. While plotting the cost function we get the smoother curve, and by adding the regularization parameter, it increase the error on the training data but it gives a better result on the test data by preventing overfitting. \n",
    "Yacht data has learning rate high, so we can observe that it has sharp curve where as housing data has lower learning rate  so it has smoother curve when compare to yacht data. "
   ]
  },
  {
   "cell_type": "code",
   "execution_count": null,
   "metadata": {},
   "outputs": [],
   "source": []
  }
 ],
 "metadata": {
  "kernelspec": {
   "display_name": "Python 3 (ipykernel)",
   "language": "python",
   "name": "python3"
  },
  "language_info": {
   "codemirror_mode": {
    "name": "ipython",
    "version": 3
   },
   "file_extension": ".py",
   "mimetype": "text/x-python",
   "name": "python",
   "nbconvert_exporter": "python",
   "pygments_lexer": "ipython3",
   "version": "3.9.7"
  }
 },
 "nbformat": 4,
 "nbformat_minor": 4
}
